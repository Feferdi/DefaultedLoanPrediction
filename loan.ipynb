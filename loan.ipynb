{
 "cells": [
  {
   "cell_type": "code",
   "execution_count": 1,
   "metadata": {},
   "outputs": [],
   "source": [
    "import pandas as pd\n",
    "import matplotlib.pyplot as plt\n",
    "import seaborn as sns"
   ]
  },
  {
   "cell_type": "code",
   "execution_count": 2,
   "metadata": {},
   "outputs": [],
   "source": [
    "# Read train data\n",
    "df = pd.read_csv('Train.csv',parse_dates=True)"
   ]
  },
  {
   "cell_type": "code",
   "execution_count": 3,
   "metadata": {},
   "outputs": [
    {
     "data": {
      "text/html": [
       "<div>\n",
       "<style scoped>\n",
       "    .dataframe tbody tr th:only-of-type {\n",
       "        vertical-align: middle;\n",
       "    }\n",
       "\n",
       "    .dataframe tbody tr th {\n",
       "        vertical-align: top;\n",
       "    }\n",
       "\n",
       "    .dataframe thead th {\n",
       "        text-align: right;\n",
       "    }\n",
       "</style>\n",
       "<table border=\"1\" class=\"dataframe\">\n",
       "  <thead>\n",
       "    <tr style=\"text-align: right;\">\n",
       "      <th></th>\n",
       "      <th>CustomerId</th>\n",
       "      <th>TransactionStartTime</th>\n",
       "      <th>Value</th>\n",
       "      <th>Amount</th>\n",
       "      <th>TransactionId</th>\n",
       "      <th>BatchId</th>\n",
       "      <th>SubscriptionId</th>\n",
       "      <th>CurrencyCode</th>\n",
       "      <th>CountryCode</th>\n",
       "      <th>ProviderId</th>\n",
       "      <th>...</th>\n",
       "      <th>LoanId</th>\n",
       "      <th>PaidOnDate</th>\n",
       "      <th>IsFinalPayBack</th>\n",
       "      <th>InvestorId</th>\n",
       "      <th>DueDate</th>\n",
       "      <th>LoanApplicationId</th>\n",
       "      <th>PayBackId</th>\n",
       "      <th>ThirdPartyId</th>\n",
       "      <th>IsThirdPartyConfirmed</th>\n",
       "      <th>IsDefaulted</th>\n",
       "    </tr>\n",
       "  </thead>\n",
       "  <tbody>\n",
       "    <tr>\n",
       "      <td>0</td>\n",
       "      <td>CustomerId_27</td>\n",
       "      <td>9/21/2018 12:17</td>\n",
       "      <td>550.0</td>\n",
       "      <td>-550.0</td>\n",
       "      <td>TransactionId_1683</td>\n",
       "      <td>BatchId_641</td>\n",
       "      <td>SubscriptionId_2</td>\n",
       "      <td>UGX</td>\n",
       "      <td>256</td>\n",
       "      <td>ProviderId_1</td>\n",
       "      <td>...</td>\n",
       "      <td>NaN</td>\n",
       "      <td>NaN</td>\n",
       "      <td>NaN</td>\n",
       "      <td>NaN</td>\n",
       "      <td>NaN</td>\n",
       "      <td>NaN</td>\n",
       "      <td>NaN</td>\n",
       "      <td>NaN</td>\n",
       "      <td>NaN</td>\n",
       "      <td>NaN</td>\n",
       "    </tr>\n",
       "    <tr>\n",
       "      <td>1</td>\n",
       "      <td>CustomerId_27</td>\n",
       "      <td>9/25/2018 9:20</td>\n",
       "      <td>550.0</td>\n",
       "      <td>-550.0</td>\n",
       "      <td>TransactionId_2235</td>\n",
       "      <td>BatchId_820</td>\n",
       "      <td>SubscriptionId_2</td>\n",
       "      <td>UGX</td>\n",
       "      <td>256</td>\n",
       "      <td>ProviderId_1</td>\n",
       "      <td>...</td>\n",
       "      <td>NaN</td>\n",
       "      <td>NaN</td>\n",
       "      <td>NaN</td>\n",
       "      <td>NaN</td>\n",
       "      <td>NaN</td>\n",
       "      <td>NaN</td>\n",
       "      <td>NaN</td>\n",
       "      <td>NaN</td>\n",
       "      <td>NaN</td>\n",
       "      <td>NaN</td>\n",
       "    </tr>\n",
       "    <tr>\n",
       "      <td>2</td>\n",
       "      <td>CustomerId_27</td>\n",
       "      <td>9/25/2018 10:33</td>\n",
       "      <td>550.0</td>\n",
       "      <td>-550.0</td>\n",
       "      <td>TransactionId_1053</td>\n",
       "      <td>BatchId_210</td>\n",
       "      <td>SubscriptionId_4</td>\n",
       "      <td>UGX</td>\n",
       "      <td>256</td>\n",
       "      <td>ProviderId_1</td>\n",
       "      <td>...</td>\n",
       "      <td>NaN</td>\n",
       "      <td>NaN</td>\n",
       "      <td>NaN</td>\n",
       "      <td>NaN</td>\n",
       "      <td>NaN</td>\n",
       "      <td>NaN</td>\n",
       "      <td>NaN</td>\n",
       "      <td>NaN</td>\n",
       "      <td>NaN</td>\n",
       "      <td>NaN</td>\n",
       "    </tr>\n",
       "    <tr>\n",
       "      <td>3</td>\n",
       "      <td>CustomerId_27</td>\n",
       "      <td>9/27/2018 10:26</td>\n",
       "      <td>1000.0</td>\n",
       "      <td>-1000.0</td>\n",
       "      <td>TransactionId_2633</td>\n",
       "      <td>BatchId_876</td>\n",
       "      <td>SubscriptionId_4</td>\n",
       "      <td>UGX</td>\n",
       "      <td>256</td>\n",
       "      <td>ProviderId_1</td>\n",
       "      <td>...</td>\n",
       "      <td>NaN</td>\n",
       "      <td>NaN</td>\n",
       "      <td>NaN</td>\n",
       "      <td>NaN</td>\n",
       "      <td>NaN</td>\n",
       "      <td>NaN</td>\n",
       "      <td>NaN</td>\n",
       "      <td>NaN</td>\n",
       "      <td>NaN</td>\n",
       "      <td>NaN</td>\n",
       "    </tr>\n",
       "    <tr>\n",
       "      <td>4</td>\n",
       "      <td>CustomerId_27</td>\n",
       "      <td>9/27/2018 12:44</td>\n",
       "      <td>500.0</td>\n",
       "      <td>-500.0</td>\n",
       "      <td>TransactionId_71</td>\n",
       "      <td>BatchId_1362</td>\n",
       "      <td>SubscriptionId_4</td>\n",
       "      <td>UGX</td>\n",
       "      <td>256</td>\n",
       "      <td>ProviderId_1</td>\n",
       "      <td>...</td>\n",
       "      <td>NaN</td>\n",
       "      <td>NaN</td>\n",
       "      <td>NaN</td>\n",
       "      <td>NaN</td>\n",
       "      <td>NaN</td>\n",
       "      <td>NaN</td>\n",
       "      <td>NaN</td>\n",
       "      <td>NaN</td>\n",
       "      <td>NaN</td>\n",
       "      <td>NaN</td>\n",
       "    </tr>\n",
       "  </tbody>\n",
       "</table>\n",
       "<p>5 rows × 27 columns</p>\n",
       "</div>"
      ],
      "text/plain": [
       "      CustomerId TransactionStartTime   Value  Amount       TransactionId  \\\n",
       "0  CustomerId_27      9/21/2018 12:17   550.0  -550.0  TransactionId_1683   \n",
       "1  CustomerId_27       9/25/2018 9:20   550.0  -550.0  TransactionId_2235   \n",
       "2  CustomerId_27      9/25/2018 10:33   550.0  -550.0  TransactionId_1053   \n",
       "3  CustomerId_27      9/27/2018 10:26  1000.0 -1000.0  TransactionId_2633   \n",
       "4  CustomerId_27      9/27/2018 12:44   500.0  -500.0    TransactionId_71   \n",
       "\n",
       "        BatchId    SubscriptionId CurrencyCode  CountryCode    ProviderId  \\\n",
       "0   BatchId_641  SubscriptionId_2          UGX          256  ProviderId_1   \n",
       "1   BatchId_820  SubscriptionId_2          UGX          256  ProviderId_1   \n",
       "2   BatchId_210  SubscriptionId_4          UGX          256  ProviderId_1   \n",
       "3   BatchId_876  SubscriptionId_4          UGX          256  ProviderId_1   \n",
       "4  BatchId_1362  SubscriptionId_4          UGX          256  ProviderId_1   \n",
       "\n",
       "   ... LoanId PaidOnDate IsFinalPayBack  InvestorId DueDate  \\\n",
       "0  ...    NaN        NaN            NaN         NaN     NaN   \n",
       "1  ...    NaN        NaN            NaN         NaN     NaN   \n",
       "2  ...    NaN        NaN            NaN         NaN     NaN   \n",
       "3  ...    NaN        NaN            NaN         NaN     NaN   \n",
       "4  ...    NaN        NaN            NaN         NaN     NaN   \n",
       "\n",
       "   LoanApplicationId PayBackId ThirdPartyId IsThirdPartyConfirmed  IsDefaulted  \n",
       "0                NaN       NaN          NaN                   NaN          NaN  \n",
       "1                NaN       NaN          NaN                   NaN          NaN  \n",
       "2                NaN       NaN          NaN                   NaN          NaN  \n",
       "3                NaN       NaN          NaN                   NaN          NaN  \n",
       "4                NaN       NaN          NaN                   NaN          NaN  \n",
       "\n",
       "[5 rows x 27 columns]"
      ]
     },
     "execution_count": 3,
     "metadata": {},
     "output_type": "execute_result"
    }
   ],
   "source": [
    "df.head()"
   ]
  },
  {
   "cell_type": "code",
   "execution_count": 4,
   "metadata": {},
   "outputs": [
    {
     "data": {
      "text/html": [
       "<div>\n",
       "<style scoped>\n",
       "    .dataframe tbody tr th:only-of-type {\n",
       "        vertical-align: middle;\n",
       "    }\n",
       "\n",
       "    .dataframe tbody tr th {\n",
       "        vertical-align: top;\n",
       "    }\n",
       "\n",
       "    .dataframe thead th {\n",
       "        text-align: right;\n",
       "    }\n",
       "</style>\n",
       "<table border=\"1\" class=\"dataframe\">\n",
       "  <thead>\n",
       "    <tr style=\"text-align: right;\">\n",
       "      <th></th>\n",
       "      <th>CustomerId</th>\n",
       "      <th>TransactionStartTime</th>\n",
       "      <th>Value</th>\n",
       "      <th>Amount</th>\n",
       "      <th>TransactionId</th>\n",
       "      <th>BatchId</th>\n",
       "      <th>SubscriptionId</th>\n",
       "      <th>CurrencyCode</th>\n",
       "      <th>CountryCode</th>\n",
       "      <th>ProviderId</th>\n",
       "      <th>...</th>\n",
       "      <th>LoanId</th>\n",
       "      <th>PaidOnDate</th>\n",
       "      <th>IsFinalPayBack</th>\n",
       "      <th>InvestorId</th>\n",
       "      <th>DueDate</th>\n",
       "      <th>LoanApplicationId</th>\n",
       "      <th>PayBackId</th>\n",
       "      <th>ThirdPartyId</th>\n",
       "      <th>IsThirdPartyConfirmed</th>\n",
       "      <th>IsDefaulted</th>\n",
       "    </tr>\n",
       "  </thead>\n",
       "  <tbody>\n",
       "    <tr>\n",
       "      <td>2095</td>\n",
       "      <td>CustomerId_28</td>\n",
       "      <td>3/30/2019 21:55</td>\n",
       "      <td>2000.0</td>\n",
       "      <td>-2000.0</td>\n",
       "      <td>TransactionId_1185</td>\n",
       "      <td>BatchId_2069</td>\n",
       "      <td>SubscriptionId_7</td>\n",
       "      <td>UGX</td>\n",
       "      <td>256</td>\n",
       "      <td>ProviderId_1</td>\n",
       "      <td>...</td>\n",
       "      <td>LoanId_293</td>\n",
       "      <td>4/29/2019 14:35</td>\n",
       "      <td>1.0</td>\n",
       "      <td>InvestorId_1</td>\n",
       "      <td>4/29/2019 21:55</td>\n",
       "      <td>LoanApplicationId_524</td>\n",
       "      <td>PayBackId_1106</td>\n",
       "      <td>ThirdPartyId_857</td>\n",
       "      <td>1.0</td>\n",
       "      <td>0.0</td>\n",
       "    </tr>\n",
       "    <tr>\n",
       "      <td>2096</td>\n",
       "      <td>CustomerId_28</td>\n",
       "      <td>3/30/2019 23:54</td>\n",
       "      <td>5000.0</td>\n",
       "      <td>-5000.0</td>\n",
       "      <td>TransactionId_1824</td>\n",
       "      <td>BatchId_1552</td>\n",
       "      <td>SubscriptionId_7</td>\n",
       "      <td>UGX</td>\n",
       "      <td>256</td>\n",
       "      <td>ProviderId_1</td>\n",
       "      <td>...</td>\n",
       "      <td>LoanId_1040</td>\n",
       "      <td>4/29/2019 14:32</td>\n",
       "      <td>1.0</td>\n",
       "      <td>InvestorId_1</td>\n",
       "      <td>4/29/2019 23:53</td>\n",
       "      <td>LoanApplicationId_1441</td>\n",
       "      <td>PayBackId_966</td>\n",
       "      <td>ThirdPartyId_958</td>\n",
       "      <td>1.0</td>\n",
       "      <td>0.0</td>\n",
       "    </tr>\n",
       "    <tr>\n",
       "      <td>2097</td>\n",
       "      <td>CustomerId_34</td>\n",
       "      <td>3/31/2019 5:40</td>\n",
       "      <td>5000.0</td>\n",
       "      <td>-5000.0</td>\n",
       "      <td>TransactionId_2507</td>\n",
       "      <td>BatchId_1093</td>\n",
       "      <td>SubscriptionId_7</td>\n",
       "      <td>UGX</td>\n",
       "      <td>256</td>\n",
       "      <td>ProviderId_1</td>\n",
       "      <td>...</td>\n",
       "      <td>LoanId_1585</td>\n",
       "      <td>6/15/2019 6:20</td>\n",
       "      <td>1.0</td>\n",
       "      <td>InvestorId_1</td>\n",
       "      <td>4/30/2019 5:40</td>\n",
       "      <td>LoanApplicationId_1466</td>\n",
       "      <td>PayBackId_1271</td>\n",
       "      <td>ThirdPartyId_1981</td>\n",
       "      <td>1.0</td>\n",
       "      <td>0.0</td>\n",
       "    </tr>\n",
       "    <tr>\n",
       "      <td>2098</td>\n",
       "      <td>CustomerId_346</td>\n",
       "      <td>3/31/2019 9:37</td>\n",
       "      <td>1500.0</td>\n",
       "      <td>-1500.0</td>\n",
       "      <td>TransactionId_540</td>\n",
       "      <td>BatchId_1239</td>\n",
       "      <td>SubscriptionId_7</td>\n",
       "      <td>UGX</td>\n",
       "      <td>256</td>\n",
       "      <td>ProviderId_1</td>\n",
       "      <td>...</td>\n",
       "      <td>LoanId_1314</td>\n",
       "      <td>4/23/2019 15:44</td>\n",
       "      <td>1.0</td>\n",
       "      <td>InvestorId_1</td>\n",
       "      <td>4/30/2019 9:37</td>\n",
       "      <td>LoanApplicationId_1389</td>\n",
       "      <td>PayBackId_945</td>\n",
       "      <td>ThirdPartyId_705</td>\n",
       "      <td>1.0</td>\n",
       "      <td>0.0</td>\n",
       "    </tr>\n",
       "    <tr>\n",
       "      <td>2099</td>\n",
       "      <td>CustomerId_188</td>\n",
       "      <td>3/31/2019 12:16</td>\n",
       "      <td>1000.0</td>\n",
       "      <td>-1000.0</td>\n",
       "      <td>TransactionId_1889</td>\n",
       "      <td>BatchId_355</td>\n",
       "      <td>SubscriptionId_7</td>\n",
       "      <td>UGX</td>\n",
       "      <td>256</td>\n",
       "      <td>ProviderId_1</td>\n",
       "      <td>...</td>\n",
       "      <td>LoanId_1570</td>\n",
       "      <td>4/10/2019 17:33</td>\n",
       "      <td>1.0</td>\n",
       "      <td>InvestorId_1</td>\n",
       "      <td>4/30/2019 12:16</td>\n",
       "      <td>LoanApplicationId_57</td>\n",
       "      <td>PayBackId_830</td>\n",
       "      <td>ThirdPartyId_899</td>\n",
       "      <td>1.0</td>\n",
       "      <td>0.0</td>\n",
       "    </tr>\n",
       "  </tbody>\n",
       "</table>\n",
       "<p>5 rows × 27 columns</p>\n",
       "</div>"
      ],
      "text/plain": [
       "          CustomerId TransactionStartTime   Value  Amount       TransactionId  \\\n",
       "2095   CustomerId_28      3/30/2019 21:55  2000.0 -2000.0  TransactionId_1185   \n",
       "2096   CustomerId_28      3/30/2019 23:54  5000.0 -5000.0  TransactionId_1824   \n",
       "2097   CustomerId_34       3/31/2019 5:40  5000.0 -5000.0  TransactionId_2507   \n",
       "2098  CustomerId_346       3/31/2019 9:37  1500.0 -1500.0   TransactionId_540   \n",
       "2099  CustomerId_188      3/31/2019 12:16  1000.0 -1000.0  TransactionId_1889   \n",
       "\n",
       "           BatchId    SubscriptionId CurrencyCode  CountryCode    ProviderId  \\\n",
       "2095  BatchId_2069  SubscriptionId_7          UGX          256  ProviderId_1   \n",
       "2096  BatchId_1552  SubscriptionId_7          UGX          256  ProviderId_1   \n",
       "2097  BatchId_1093  SubscriptionId_7          UGX          256  ProviderId_1   \n",
       "2098  BatchId_1239  SubscriptionId_7          UGX          256  ProviderId_1   \n",
       "2099   BatchId_355  SubscriptionId_7          UGX          256  ProviderId_1   \n",
       "\n",
       "      ...       LoanId       PaidOnDate IsFinalPayBack    InvestorId  \\\n",
       "2095  ...   LoanId_293  4/29/2019 14:35            1.0  InvestorId_1   \n",
       "2096  ...  LoanId_1040  4/29/2019 14:32            1.0  InvestorId_1   \n",
       "2097  ...  LoanId_1585   6/15/2019 6:20            1.0  InvestorId_1   \n",
       "2098  ...  LoanId_1314  4/23/2019 15:44            1.0  InvestorId_1   \n",
       "2099  ...  LoanId_1570  4/10/2019 17:33            1.0  InvestorId_1   \n",
       "\n",
       "              DueDate       LoanApplicationId       PayBackId  \\\n",
       "2095  4/29/2019 21:55   LoanApplicationId_524  PayBackId_1106   \n",
       "2096  4/29/2019 23:53  LoanApplicationId_1441   PayBackId_966   \n",
       "2097   4/30/2019 5:40  LoanApplicationId_1466  PayBackId_1271   \n",
       "2098   4/30/2019 9:37  LoanApplicationId_1389   PayBackId_945   \n",
       "2099  4/30/2019 12:16    LoanApplicationId_57   PayBackId_830   \n",
       "\n",
       "           ThirdPartyId IsThirdPartyConfirmed  IsDefaulted  \n",
       "2095   ThirdPartyId_857                   1.0          0.0  \n",
       "2096   ThirdPartyId_958                   1.0          0.0  \n",
       "2097  ThirdPartyId_1981                   1.0          0.0  \n",
       "2098   ThirdPartyId_705                   1.0          0.0  \n",
       "2099   ThirdPartyId_899                   1.0          0.0  \n",
       "\n",
       "[5 rows x 27 columns]"
      ]
     },
     "execution_count": 4,
     "metadata": {},
     "output_type": "execute_result"
    }
   ],
   "source": [
    "df.tail()"
   ]
  },
  {
   "cell_type": "code",
   "execution_count": 5,
   "metadata": {},
   "outputs": [
    {
     "data": {
      "text/plain": [
       "Index(['CustomerId', 'TransactionStartTime', 'Value', 'Amount',\n",
       "       'TransactionId', 'BatchId', 'SubscriptionId', 'CurrencyCode',\n",
       "       'CountryCode', 'ProviderId', 'ProductId', 'ProductCategory',\n",
       "       'ChannelId', 'TransactionStatus', 'IssuedDateLoan', 'AmountLoan',\n",
       "       'Currency', 'LoanId', 'PaidOnDate', 'IsFinalPayBack', 'InvestorId',\n",
       "       'DueDate', 'LoanApplicationId', 'PayBackId', 'ThirdPartyId',\n",
       "       'IsThirdPartyConfirmed', 'IsDefaulted'],\n",
       "      dtype='object')"
      ]
     },
     "execution_count": 5,
     "metadata": {},
     "output_type": "execute_result"
    }
   ],
   "source": [
    "df.columns"
   ]
  },
  {
   "cell_type": "code",
   "execution_count": 6,
   "metadata": {},
   "outputs": [
    {
     "name": "stdout",
     "output_type": "stream",
     "text": [
      "<class 'pandas.core.frame.DataFrame'>\n",
      "RangeIndex: 2100 entries, 0 to 2099\n",
      "Data columns (total 27 columns):\n",
      "CustomerId               2100 non-null object\n",
      "TransactionStartTime     2100 non-null object\n",
      "Value                    2100 non-null float64\n",
      "Amount                   2100 non-null float64\n",
      "TransactionId            2100 non-null object\n",
      "BatchId                  2100 non-null object\n",
      "SubscriptionId           2100 non-null object\n",
      "CurrencyCode             2100 non-null object\n",
      "CountryCode              2100 non-null int64\n",
      "ProviderId               2100 non-null object\n",
      "ProductId                2100 non-null object\n",
      "ProductCategory          2100 non-null object\n",
      "ChannelId                2100 non-null object\n",
      "TransactionStatus        2100 non-null int64\n",
      "IssuedDateLoan           1488 non-null object\n",
      "AmountLoan               1488 non-null float64\n",
      "Currency                 1488 non-null object\n",
      "LoanId                   1488 non-null object\n",
      "PaidOnDate               1488 non-null object\n",
      "IsFinalPayBack           1488 non-null float64\n",
      "InvestorId               1488 non-null object\n",
      "DueDate                  1486 non-null object\n",
      "LoanApplicationId        1483 non-null object\n",
      "PayBackId                1488 non-null object\n",
      "ThirdPartyId             1486 non-null object\n",
      "IsThirdPartyConfirmed    1488 non-null float64\n",
      "IsDefaulted              1488 non-null float64\n",
      "dtypes: float64(6), int64(2), object(19)\n",
      "memory usage: 443.1+ KB\n"
     ]
    }
   ],
   "source": [
    "df.info()"
   ]
  },
  {
   "cell_type": "code",
   "execution_count": 7,
   "metadata": {},
   "outputs": [
    {
     "data": {
      "text/plain": [
       "CustomerId                 0\n",
       "TransactionStartTime       0\n",
       "Value                      0\n",
       "Amount                     0\n",
       "TransactionId              0\n",
       "BatchId                    0\n",
       "SubscriptionId             0\n",
       "CurrencyCode               0\n",
       "CountryCode                0\n",
       "ProviderId                 0\n",
       "ProductId                  0\n",
       "ProductCategory            0\n",
       "ChannelId                  0\n",
       "TransactionStatus          0\n",
       "IssuedDateLoan           612\n",
       "AmountLoan               612\n",
       "Currency                 612\n",
       "LoanId                   612\n",
       "PaidOnDate               612\n",
       "IsFinalPayBack           612\n",
       "InvestorId               612\n",
       "DueDate                  614\n",
       "LoanApplicationId        617\n",
       "PayBackId                612\n",
       "ThirdPartyId             614\n",
       "IsThirdPartyConfirmed    612\n",
       "IsDefaulted              612\n",
       "dtype: int64"
      ]
     },
     "execution_count": 7,
     "metadata": {},
     "output_type": "execute_result"
    }
   ],
   "source": [
    "df.isna().sum()"
   ]
  },
  {
   "cell_type": "code",
   "execution_count": 8,
   "metadata": {},
   "outputs": [
    {
     "data": {
      "text/plain": [
       "ProductId_3     652\n",
       "ProductId_7     523\n",
       "ProductId_18    358\n",
       "ProductId_4     138\n",
       "ProductId_15    121\n",
       "ProductId_1     106\n",
       "ProductId_8      94\n",
       "ProductId_13     49\n",
       "ProductId_9      14\n",
       "ProductId_6      13\n",
       "ProductId_2      12\n",
       "ProductId_5       8\n",
       "ProductId_17      5\n",
       "ProductId_10      4\n",
       "ProductId_19      2\n",
       "ProductId_16      1\n",
       "Name: ProductId, dtype: int64"
      ]
     },
     "execution_count": 8,
     "metadata": {},
     "output_type": "execute_result"
    }
   ],
   "source": [
    "df['ProductId'].value_counts()"
   ]
  },
  {
   "cell_type": "code",
   "execution_count": 9,
   "metadata": {},
   "outputs": [
    {
     "data": {
      "text/plain": [
       "CustomerId                421\n",
       "TransactionStartTime     1606\n",
       "Value                      98\n",
       "Amount                     77\n",
       "TransactionId            1758\n",
       "BatchId                  1713\n",
       "SubscriptionId              6\n",
       "CurrencyCode                1\n",
       "CountryCode                 1\n",
       "ProviderId                  1\n",
       "ProductId                  16\n",
       "ProductCategory             7\n",
       "ChannelId                   1\n",
       "TransactionStatus           2\n",
       "IssuedDateLoan           1101\n",
       "AmountLoan                647\n",
       "Currency                    1\n",
       "LoanId                   1159\n",
       "PaidOnDate               1427\n",
       "IsFinalPayBack              2\n",
       "InvestorId                  3\n",
       "DueDate                  1101\n",
       "LoanApplicationId        1156\n",
       "PayBackId                1485\n",
       "ThirdPartyId             1481\n",
       "IsThirdPartyConfirmed       2\n",
       "IsDefaulted                 2\n",
       "dtype: int64"
      ]
     },
     "execution_count": 9,
     "metadata": {},
     "output_type": "execute_result"
    }
   ],
   "source": [
    "#Checking Unique values\n",
    "df.nunique()"
   ]
  },
  {
   "cell_type": "markdown",
   "metadata": {},
   "source": [
    "# Defaulted caracteristics"
   ]
  },
  {
   "cell_type": "code",
   "execution_count": 10,
   "metadata": {},
   "outputs": [
    {
     "data": {
      "text/plain": [
       "69"
      ]
     },
     "execution_count": 10,
     "metadata": {},
     "output_type": "execute_result"
    }
   ],
   "source": [
    "#Select only defaulted\n",
    "df_defaulted = df[df['IsDefaulted'] == 1]\n",
    "#Group defaulted customer by CustomerId\n",
    "groupby_CustomerId = df_defaulted.groupby('CustomerId').sum()\n",
    "len(groupby_CustomerId)"
   ]
  },
  {
   "cell_type": "code",
   "execution_count": 11,
   "metadata": {},
   "outputs": [
    {
     "data": {
      "text/plain": [
       "count        69.000000\n",
       "mean      47164.202899\n",
       "std       48226.195458\n",
       "min         500.000000\n",
       "25%        5000.000000\n",
       "50%       35000.000000\n",
       "75%       64000.000000\n",
       "max      192000.000000\n",
       "Name: AmountLoan, dtype: float64"
      ]
     },
     "execution_count": 11,
     "metadata": {},
     "output_type": "execute_result"
    }
   ],
   "source": [
    "#Defaulted loans caracteristics\n",
    "groupby_CustomerId.AmountLoan.describe() # groupby_CustomerId: data filtrer suivant AmountLoan"
   ]
  },
  {
   "cell_type": "code",
   "execution_count": 12,
   "metadata": {},
   "outputs": [
    {
     "data": {
      "text/plain": [
       "CustomerId                69\n",
       "TransactionStartTime      53\n",
       "Value                     12\n",
       "Amount                    11\n",
       "TransactionId             71\n",
       "BatchId                   71\n",
       "SubscriptionId             3\n",
       "CurrencyCode               1\n",
       "CountryCode                1\n",
       "ProviderId                 1\n",
       "ProductId                  6\n",
       "ProductCategory            4\n",
       "ChannelId                  1\n",
       "TransactionStatus          1\n",
       "IssuedDateLoan            53\n",
       "AmountLoan                42\n",
       "Currency                   1\n",
       "LoanId                    71\n",
       "PaidOnDate               177\n",
       "IsFinalPayBack             2\n",
       "InvestorId                 2\n",
       "DueDate                   54\n",
       "LoanApplicationId         71\n",
       "PayBackId                178\n",
       "ThirdPartyId             175\n",
       "IsThirdPartyConfirmed      2\n",
       "IsDefaulted                1\n",
       "dtype: int64"
      ]
     },
     "execution_count": 12,
     "metadata": {},
     "output_type": "execute_result"
    }
   ],
   "source": [
    "#Checking number of loans per defaulted customer\n",
    "df_defaulted.nunique()"
   ]
  },
  {
   "cell_type": "code",
   "execution_count": 13,
   "metadata": {},
   "outputs": [
    {
     "data": {
      "image/png": "[encoded data removed]",
      "text/plain": [
       "<Figure size 432x288 with 1 Axes>"
      ]
     },
     "metadata": {
      "needs_background": "light"
     },
     "output_type": "display_data"
    }
   ],
   "source": [
    "#Visualising Most defaulted loans products\n",
    "m = sns.countplot(data=df_defaulted, y = 'ProductId', palette='Dark2')"
   ]
  },
  {
   "cell_type": "code",
   "execution_count": 14,
   "metadata": {},
   "outputs": [
    {
     "data": {
      "text/html": [
       "<div>\n",
       "<style scoped>\n",
       "    .dataframe tbody tr th:only-of-type {\n",
       "        vertical-align: middle;\n",
       "    }\n",
       "\n",
       "    .dataframe tbody tr th {\n",
       "        vertical-align: top;\n",
       "    }\n",
       "\n",
       "    .dataframe thead th {\n",
       "        text-align: right;\n",
       "    }\n",
       "</style>\n",
       "<table border=\"1\" class=\"dataframe\">\n",
       "  <thead>\n",
       "    <tr style=\"text-align: right;\">\n",
       "      <th></th>\n",
       "      <th>Value</th>\n",
       "      <th>Amount</th>\n",
       "      <th>CountryCode</th>\n",
       "      <th>TransactionStatus</th>\n",
       "      <th>AmountLoan</th>\n",
       "      <th>IsFinalPayBack</th>\n",
       "      <th>IsThirdPartyConfirmed</th>\n",
       "      <th>IsDefaulted</th>\n",
       "    </tr>\n",
       "    <tr>\n",
       "      <th>ProductId</th>\n",
       "      <th></th>\n",
       "      <th></th>\n",
       "      <th></th>\n",
       "      <th></th>\n",
       "      <th></th>\n",
       "      <th></th>\n",
       "      <th></th>\n",
       "      <th></th>\n",
       "    </tr>\n",
       "  </thead>\n",
       "  <tbody>\n",
       "    <tr>\n",
       "      <td>ProductId_1</td>\n",
       "      <td>36000.0</td>\n",
       "      <td>-36000.0</td>\n",
       "      <td>1024</td>\n",
       "      <td>4</td>\n",
       "      <td>6780.0</td>\n",
       "      <td>0.0</td>\n",
       "      <td>4.0</td>\n",
       "      <td>4.0</td>\n",
       "    </tr>\n",
       "    <tr>\n",
       "      <td>ProductId_18</td>\n",
       "      <td>35976000.0</td>\n",
       "      <td>-35976000.0</td>\n",
       "      <td>39168</td>\n",
       "      <td>153</td>\n",
       "      <td>3202500.0</td>\n",
       "      <td>2.0</td>\n",
       "      <td>152.0</td>\n",
       "      <td>153.0</td>\n",
       "    </tr>\n",
       "    <tr>\n",
       "      <td>ProductId_3</td>\n",
       "      <td>49000.0</td>\n",
       "      <td>-49000.0</td>\n",
       "      <td>2560</td>\n",
       "      <td>10</td>\n",
       "      <td>19790.0</td>\n",
       "      <td>0.0</td>\n",
       "      <td>10.0</td>\n",
       "      <td>10.0</td>\n",
       "    </tr>\n",
       "    <tr>\n",
       "      <td>ProductId_4</td>\n",
       "      <td>5000.0</td>\n",
       "      <td>-5000.0</td>\n",
       "      <td>256</td>\n",
       "      <td>1</td>\n",
       "      <td>900.0</td>\n",
       "      <td>0.0</td>\n",
       "      <td>1.0</td>\n",
       "      <td>1.0</td>\n",
       "    </tr>\n",
       "    <tr>\n",
       "      <td>ProductId_7</td>\n",
       "      <td>74998.0</td>\n",
       "      <td>-74998.0</td>\n",
       "      <td>2048</td>\n",
       "      <td>8</td>\n",
       "      <td>17695.0</td>\n",
       "      <td>1.0</td>\n",
       "      <td>7.0</td>\n",
       "      <td>8.0</td>\n",
       "    </tr>\n",
       "    <tr>\n",
       "      <td>ProductId_9</td>\n",
       "      <td>25790.0</td>\n",
       "      <td>-23000.0</td>\n",
       "      <td>512</td>\n",
       "      <td>2</td>\n",
       "      <td>6665.0</td>\n",
       "      <td>0.0</td>\n",
       "      <td>2.0</td>\n",
       "      <td>2.0</td>\n",
       "    </tr>\n",
       "  </tbody>\n",
       "</table>\n",
       "</div>"
      ],
      "text/plain": [
       "                   Value      Amount  CountryCode  TransactionStatus  \\\n",
       "ProductId                                                              \n",
       "ProductId_1      36000.0    -36000.0         1024                  4   \n",
       "ProductId_18  35976000.0 -35976000.0        39168                153   \n",
       "ProductId_3      49000.0    -49000.0         2560                 10   \n",
       "ProductId_4       5000.0     -5000.0          256                  1   \n",
       "ProductId_7      74998.0    -74998.0         2048                  8   \n",
       "ProductId_9      25790.0    -23000.0          512                  2   \n",
       "\n",
       "              AmountLoan  IsFinalPayBack  IsThirdPartyConfirmed  IsDefaulted  \n",
       "ProductId                                                                     \n",
       "ProductId_1       6780.0             0.0                    4.0          4.0  \n",
       "ProductId_18   3202500.0             2.0                  152.0        153.0  \n",
       "ProductId_3      19790.0             0.0                   10.0         10.0  \n",
       "ProductId_4        900.0             0.0                    1.0          1.0  \n",
       "ProductId_7      17695.0             1.0                    7.0          8.0  \n",
       "ProductId_9       6665.0             0.0                    2.0          2.0  "
      ]
     },
     "execution_count": 14,
     "metadata": {},
     "output_type": "execute_result"
    }
   ],
   "source": [
    "#Visualising defaulted values grouped by loan products\n",
    "groupby_ProductId = df_defaulted.groupby('ProductId').sum()\n",
    "groupby_ProductId"
   ]
  },
  {
   "cell_type": "code",
   "execution_count": 15,
   "metadata": {},
   "outputs": [
    {
     "data": {
      "text/plain": [
       "<matplotlib.axes._subplots.AxesSubplot at 0x20fd5dc1408>"
      ]
     },
     "execution_count": 15,
     "metadata": {},
     "output_type": "execute_result"
    },
    {
     "data": {
      "image/png": "[encoded data removed]",
      "text/plain": [
       "<Figure size 432x288 with 1 Axes>"
      ]
     },
     "metadata": {},
     "output_type": "display_data"
    }
   ],
   "source": [
    "groupby_ProductId.Value.plot(kind='pie')"
   ]
  },
  {
   "cell_type": "code",
   "execution_count": 16,
   "metadata": {},
   "outputs": [
    {
     "data": {
      "image/png": "[encoded data removed]",
      "text/plain": [
       "<Figure size 432x288 with 1 Axes>"
      ]
     },
     "metadata": {
      "needs_background": "light"
     },
     "output_type": "display_data"
    }
   ],
   "source": [
    "import seaborn as sns\n",
    "import matplotlib.pyplot as plt\n",
    "\n",
    "sns.countplot(df['TransactionStatus'],label=\"Sum\")\n",
    "\n",
    "plt.show()"
   ]
  },
  {
   "cell_type": "code",
   "execution_count": 17,
   "metadata": {},
   "outputs": [
    {
     "data": {
      "image/png": "[encoded data removed]",
      "text/plain": [
       "<Figure size 432x288 with 1 Axes>"
      ]
     },
     "metadata": {
      "needs_background": "light"
     },
     "output_type": "display_data"
    }
   ],
   "source": [
    "ax = sns.countplot(x=\"TransactionStatus\",hue=\"ProductId\", data=df, palette=\"Set2\")"
   ]
  },
  {
   "cell_type": "code",
   "execution_count": 18,
   "metadata": {},
   "outputs": [
    {
     "data": {
      "text/plain": [
       "TransactionStatus\n",
       "0     612\n",
       "1    1488\n",
       "dtype: int64"
      ]
     },
     "execution_count": 18,
     "metadata": {},
     "output_type": "execute_result"
    }
   ],
   "source": [
    "df.groupby('TransactionStatus').size()"
   ]
  },
  {
   "cell_type": "code",
   "execution_count": 19,
   "metadata": {},
   "outputs": [
    {
     "data": {
      "text/plain": [
       "ProductId\n",
       "ProductId_1     106\n",
       "ProductId_10      4\n",
       "ProductId_13     49\n",
       "ProductId_15    121\n",
       "ProductId_16      1\n",
       "ProductId_17      5\n",
       "ProductId_18    358\n",
       "ProductId_19      2\n",
       "ProductId_2      12\n",
       "ProductId_3     652\n",
       "ProductId_4     138\n",
       "ProductId_5       8\n",
       "ProductId_6      13\n",
       "ProductId_7     523\n",
       "ProductId_8      94\n",
       "ProductId_9      14\n",
       "dtype: int64"
      ]
     },
     "execution_count": 19,
     "metadata": {},
     "output_type": "execute_result"
    }
   ],
   "source": [
    "df.groupby('ProductId').size()"
   ]
  },
  {
   "cell_type": "code",
   "execution_count": 20,
   "metadata": {},
   "outputs": [],
   "source": [
    "df1=df[df.TransactionStatus == 1]"
   ]
  },
  {
   "cell_type": "code",
   "execution_count": 21,
   "metadata": {},
   "outputs": [
    {
     "data": {
      "text/plain": [
       "TransactionStatus\n",
       "1    1488\n",
       "dtype: int64"
      ]
     },
     "execution_count": 21,
     "metadata": {},
     "output_type": "execute_result"
    }
   ],
   "source": [
    "df1.groupby('TransactionStatus').size()"
   ]
  },
  {
   "cell_type": "code",
   "execution_count": 22,
   "metadata": {},
   "outputs": [
    {
     "data": {
      "text/plain": [
       "ProductId\n",
       "ProductId_1      87\n",
       "ProductId_10      3\n",
       "ProductId_13     36\n",
       "ProductId_15     74\n",
       "ProductId_16      1\n",
       "ProductId_17      5\n",
       "ProductId_18    237\n",
       "ProductId_2      11\n",
       "ProductId_3     447\n",
       "ProductId_4     100\n",
       "ProductId_5       5\n",
       "ProductId_6      12\n",
       "ProductId_7     393\n",
       "ProductId_8      66\n",
       "ProductId_9      11\n",
       "dtype: int64"
      ]
     },
     "execution_count": 22,
     "metadata": {},
     "output_type": "execute_result"
    }
   ],
   "source": [
    "df1.groupby('ProductId').size()"
   ]
  },
  {
   "cell_type": "code",
   "execution_count": 23,
   "metadata": {},
   "outputs": [
    {
     "data": {
      "text/plain": [
       "IsDefaulted\n",
       "0.0    1310\n",
       "1.0     178\n",
       "dtype: int64"
      ]
     },
     "execution_count": 23,
     "metadata": {},
     "output_type": "execute_result"
    }
   ],
   "source": [
    "df1.groupby('IsDefaulted').size()"
   ]
  },
  {
   "cell_type": "code",
   "execution_count": 24,
   "metadata": {},
   "outputs": [],
   "source": [
    "df2=df1[df1.IsDefaulted==0]"
   ]
  },
  {
   "cell_type": "code",
   "execution_count": 25,
   "metadata": {},
   "outputs": [
    {
     "data": {
      "text/plain": [
       "ProductId\n",
       "ProductId_1      83\n",
       "ProductId_10      3\n",
       "ProductId_13     36\n",
       "ProductId_15     74\n",
       "ProductId_16      1\n",
       "ProductId_17      5\n",
       "ProductId_18     84\n",
       "ProductId_2      11\n",
       "ProductId_3     437\n",
       "ProductId_4      99\n",
       "ProductId_5       5\n",
       "ProductId_6      12\n",
       "ProductId_7     385\n",
       "ProductId_8      66\n",
       "ProductId_9       9\n",
       "dtype: int64"
      ]
     },
     "execution_count": 25,
     "metadata": {},
     "output_type": "execute_result"
    }
   ],
   "source": [
    "df2.groupby('ProductId').size()"
   ]
  },
  {
   "cell_type": "code",
   "execution_count": 26,
   "metadata": {},
   "outputs": [
    {
     "data": {
      "text/plain": [
       "AmountLoan\n",
       "50.0         1\n",
       "54.0         1\n",
       "58.0         1\n",
       "60.0         1\n",
       "67.0         1\n",
       "            ..\n",
       "370000.0     1\n",
       "380000.0     1\n",
       "400000.0     2\n",
       "428400.0     1\n",
       "2760000.0    1\n",
       "Name: IsDefaulted, Length: 647, dtype: int64"
      ]
     },
     "execution_count": 26,
     "metadata": {},
     "output_type": "execute_result"
    }
   ],
   "source": [
    "df_loan = df.loc[df.TransactionStatus == 1].groupby('AmountLoan')\n",
    "df_loan['IsDefaulted'].count()"
   ]
  },
  {
   "cell_type": "code",
   "execution_count": 27,
   "metadata": {},
   "outputs": [
    {
     "data": {
      "image/png": "[encoded data removed]",
      "text/plain": [
       "<Figure size 432x288 with 1 Axes>"
      ]
     },
     "metadata": {
      "needs_background": "light"
     },
     "output_type": "display_data"
    }
   ],
   "source": [
    "target= df[df['TransactionStatus']==1]\n",
    "ax = sns.countplot(x='IsDefaulted', data=target)"
   ]
  },
  {
   "cell_type": "markdown",
   "metadata": {},
   "source": [
    "# 1-  Decision Tree Classification in Python"
   ]
  },
  {
   "cell_type": "code",
   "execution_count": 28,
   "metadata": {},
   "outputs": [
    {
     "data": {
      "text/plain": [
       "\"\\ny_test = pd.read_csv('Test.csv',parse_dates=True)\\n\""
      ]
     },
     "execution_count": 28,
     "metadata": {},
     "output_type": "execute_result"
    }
   ],
   "source": [
    "# import test data\n",
    "'''\n",
    "y_test = pd.read_csv('Test.csv',parse_dates=True)\n",
    "'''"
   ]
  },
  {
   "cell_type": "code",
   "execution_count": 29,
   "metadata": {},
   "outputs": [
    {
     "data": {
      "text/plain": [
       "Index(['CustomerId', 'TransactionStartTime', 'Value', 'Amount',\n",
       "       'TransactionId', 'BatchId', 'SubscriptionId', 'CurrencyCode',\n",
       "       'CountryCode', 'ProviderId', 'ProductId', 'ProductCategory',\n",
       "       'ChannelId', 'TransactionStatus', 'IssuedDateLoan', 'AmountLoan',\n",
       "       'Currency', 'LoanId', 'PaidOnDate', 'IsFinalPayBack', 'InvestorId',\n",
       "       'DueDate', 'LoanApplicationId', 'PayBackId', 'ThirdPartyId',\n",
       "       'IsThirdPartyConfirmed', 'IsDefaulted'],\n",
       "      dtype='object')"
      ]
     },
     "execution_count": 29,
     "metadata": {},
     "output_type": "execute_result"
    }
   ],
   "source": [
    "df1.columns"
   ]
  },
  {
   "cell_type": "markdown",
   "metadata": {},
   "source": [
    "# Selecting Feature"
   ]
  },
  {
   "cell_type": "code",
   "execution_count": 30,
   "metadata": {},
   "outputs": [
    {
     "data": {
      "text/html": [
       "<div>\n",
       "<style scoped>\n",
       "    .dataframe tbody tr th:only-of-type {\n",
       "        vertical-align: middle;\n",
       "    }\n",
       "\n",
       "    .dataframe tbody tr th {\n",
       "        vertical-align: top;\n",
       "    }\n",
       "\n",
       "    .dataframe thead th {\n",
       "        text-align: right;\n",
       "    }\n",
       "</style>\n",
       "<table border=\"1\" class=\"dataframe\">\n",
       "  <thead>\n",
       "    <tr style=\"text-align: right;\">\n",
       "      <th></th>\n",
       "      <th>CustomerId</th>\n",
       "      <th>TransactionStartTime</th>\n",
       "      <th>Value</th>\n",
       "      <th>Amount</th>\n",
       "      <th>TransactionId</th>\n",
       "      <th>BatchId</th>\n",
       "      <th>SubscriptionId</th>\n",
       "      <th>CurrencyCode</th>\n",
       "      <th>CountryCode</th>\n",
       "      <th>ProviderId</th>\n",
       "      <th>...</th>\n",
       "      <th>LoanId</th>\n",
       "      <th>PaidOnDate</th>\n",
       "      <th>IsFinalPayBack</th>\n",
       "      <th>InvestorId</th>\n",
       "      <th>DueDate</th>\n",
       "      <th>LoanApplicationId</th>\n",
       "      <th>PayBackId</th>\n",
       "      <th>ThirdPartyId</th>\n",
       "      <th>IsThirdPartyConfirmed</th>\n",
       "      <th>IsDefaulted</th>\n",
       "    </tr>\n",
       "  </thead>\n",
       "  <tbody>\n",
       "    <tr>\n",
       "      <td>9</td>\n",
       "      <td>CustomerId_258</td>\n",
       "      <td>10/18/2018 16:11</td>\n",
       "      <td>10000.0</td>\n",
       "      <td>-10000.0</td>\n",
       "      <td>TransactionId_1041</td>\n",
       "      <td>BatchId_1970</td>\n",
       "      <td>SubscriptionId_4</td>\n",
       "      <td>UGX</td>\n",
       "      <td>256</td>\n",
       "      <td>ProviderId_1</td>\n",
       "      <td>...</td>\n",
       "      <td>LoanId_62</td>\n",
       "      <td>10/22/2018 9:13</td>\n",
       "      <td>1.0</td>\n",
       "      <td>InvestorId_3</td>\n",
       "      <td>11/17/2018 16:11</td>\n",
       "      <td>NaN</td>\n",
       "      <td>PayBackId_1791</td>\n",
       "      <td>ThirdPartyId_648</td>\n",
       "      <td>0.0</td>\n",
       "      <td>0.0</td>\n",
       "    </tr>\n",
       "    <tr>\n",
       "      <td>10</td>\n",
       "      <td>CustomerId_258</td>\n",
       "      <td>10/18/2018 16:11</td>\n",
       "      <td>10000.0</td>\n",
       "      <td>-10000.0</td>\n",
       "      <td>TransactionId_1041</td>\n",
       "      <td>BatchId_1970</td>\n",
       "      <td>SubscriptionId_4</td>\n",
       "      <td>UGX</td>\n",
       "      <td>256</td>\n",
       "      <td>ProviderId_1</td>\n",
       "      <td>...</td>\n",
       "      <td>LoanId_62</td>\n",
       "      <td>10/23/2018 7:34</td>\n",
       "      <td>1.0</td>\n",
       "      <td>InvestorId_3</td>\n",
       "      <td>11/17/2018 16:11</td>\n",
       "      <td>NaN</td>\n",
       "      <td>PayBackId_1067</td>\n",
       "      <td>ThirdPartyId_68</td>\n",
       "      <td>0.0</td>\n",
       "      <td>0.0</td>\n",
       "    </tr>\n",
       "    <tr>\n",
       "      <td>11</td>\n",
       "      <td>CustomerId_258</td>\n",
       "      <td>10/18/2018 16:11</td>\n",
       "      <td>10000.0</td>\n",
       "      <td>-10000.0</td>\n",
       "      <td>TransactionId_1041</td>\n",
       "      <td>BatchId_1970</td>\n",
       "      <td>SubscriptionId_4</td>\n",
       "      <td>UGX</td>\n",
       "      <td>256</td>\n",
       "      <td>ProviderId_1</td>\n",
       "      <td>...</td>\n",
       "      <td>LoanId_62</td>\n",
       "      <td>10/25/2018 8:58</td>\n",
       "      <td>1.0</td>\n",
       "      <td>InvestorId_3</td>\n",
       "      <td>11/17/2018 16:11</td>\n",
       "      <td>NaN</td>\n",
       "      <td>PayBackId_928</td>\n",
       "      <td>ThirdPartyId_1883</td>\n",
       "      <td>0.0</td>\n",
       "      <td>0.0</td>\n",
       "    </tr>\n",
       "    <tr>\n",
       "      <td>13</td>\n",
       "      <td>CustomerId_233</td>\n",
       "      <td>10/19/2018 10:18</td>\n",
       "      <td>5150.0</td>\n",
       "      <td>-5150.0</td>\n",
       "      <td>TransactionId_1598</td>\n",
       "      <td>BatchId_1458</td>\n",
       "      <td>SubscriptionId_4</td>\n",
       "      <td>UGX</td>\n",
       "      <td>256</td>\n",
       "      <td>ProviderId_1</td>\n",
       "      <td>...</td>\n",
       "      <td>LoanId_22</td>\n",
       "      <td>10/30/2018 6:50</td>\n",
       "      <td>1.0</td>\n",
       "      <td>InvestorId_3</td>\n",
       "      <td>11/18/2018 10:16</td>\n",
       "      <td>NaN</td>\n",
       "      <td>PayBackId_647</td>\n",
       "      <td>ThirdPartyId_1484</td>\n",
       "      <td>0.0</td>\n",
       "      <td>0.0</td>\n",
       "    </tr>\n",
       "    <tr>\n",
       "      <td>14</td>\n",
       "      <td>CustomerId_233</td>\n",
       "      <td>10/19/2018 11:01</td>\n",
       "      <td>515.0</td>\n",
       "      <td>-515.0</td>\n",
       "      <td>TransactionId_2115</td>\n",
       "      <td>BatchId_1672</td>\n",
       "      <td>SubscriptionId_4</td>\n",
       "      <td>UGX</td>\n",
       "      <td>256</td>\n",
       "      <td>ProviderId_1</td>\n",
       "      <td>...</td>\n",
       "      <td>LoanId_368</td>\n",
       "      <td>10/22/2018 16:11</td>\n",
       "      <td>1.0</td>\n",
       "      <td>InvestorId_3</td>\n",
       "      <td>11/18/2018 11:00</td>\n",
       "      <td>NaN</td>\n",
       "      <td>PayBackId_1267</td>\n",
       "      <td>ThirdPartyId_949</td>\n",
       "      <td>0.0</td>\n",
       "      <td>0.0</td>\n",
       "    </tr>\n",
       "  </tbody>\n",
       "</table>\n",
       "<p>5 rows × 27 columns</p>\n",
       "</div>"
      ],
      "text/plain": [
       "        CustomerId TransactionStartTime    Value   Amount       TransactionId  \\\n",
       "9   CustomerId_258     10/18/2018 16:11  10000.0 -10000.0  TransactionId_1041   \n",
       "10  CustomerId_258     10/18/2018 16:11  10000.0 -10000.0  TransactionId_1041   \n",
       "11  CustomerId_258     10/18/2018 16:11  10000.0 -10000.0  TransactionId_1041   \n",
       "13  CustomerId_233     10/19/2018 10:18   5150.0  -5150.0  TransactionId_1598   \n",
       "14  CustomerId_233     10/19/2018 11:01    515.0   -515.0  TransactionId_2115   \n",
       "\n",
       "         BatchId    SubscriptionId CurrencyCode  CountryCode    ProviderId  \\\n",
       "9   BatchId_1970  SubscriptionId_4          UGX          256  ProviderId_1   \n",
       "10  BatchId_1970  SubscriptionId_4          UGX          256  ProviderId_1   \n",
       "11  BatchId_1970  SubscriptionId_4          UGX          256  ProviderId_1   \n",
       "13  BatchId_1458  SubscriptionId_4          UGX          256  ProviderId_1   \n",
       "14  BatchId_1672  SubscriptionId_4          UGX          256  ProviderId_1   \n",
       "\n",
       "    ...      LoanId        PaidOnDate IsFinalPayBack    InvestorId  \\\n",
       "9   ...   LoanId_62   10/22/2018 9:13            1.0  InvestorId_3   \n",
       "10  ...   LoanId_62   10/23/2018 7:34            1.0  InvestorId_3   \n",
       "11  ...   LoanId_62   10/25/2018 8:58            1.0  InvestorId_3   \n",
       "13  ...   LoanId_22   10/30/2018 6:50            1.0  InvestorId_3   \n",
       "14  ...  LoanId_368  10/22/2018 16:11            1.0  InvestorId_3   \n",
       "\n",
       "             DueDate  LoanApplicationId       PayBackId       ThirdPartyId  \\\n",
       "9   11/17/2018 16:11                NaN  PayBackId_1791   ThirdPartyId_648   \n",
       "10  11/17/2018 16:11                NaN  PayBackId_1067    ThirdPartyId_68   \n",
       "11  11/17/2018 16:11                NaN   PayBackId_928  ThirdPartyId_1883   \n",
       "13  11/18/2018 10:16                NaN   PayBackId_647  ThirdPartyId_1484   \n",
       "14  11/18/2018 11:00                NaN  PayBackId_1267   ThirdPartyId_949   \n",
       "\n",
       "   IsThirdPartyConfirmed  IsDefaulted  \n",
       "9                    0.0          0.0  \n",
       "10                   0.0          0.0  \n",
       "11                   0.0          0.0  \n",
       "13                   0.0          0.0  \n",
       "14                   0.0          0.0  \n",
       "\n",
       "[5 rows x 27 columns]"
      ]
     },
     "execution_count": 30,
     "metadata": {},
     "output_type": "execute_result"
    }
   ],
   "source": [
    "df1.head()"
   ]
  },
  {
   "cell_type": "code",
   "execution_count": 31,
   "metadata": {},
   "outputs": [
    {
     "data": {
      "text/plain": [
       "CustomerId                239\n",
       "TransactionStartTime     1098\n",
       "Value                      87\n",
       "Amount                     71\n",
       "TransactionId            1153\n",
       "BatchId                  1126\n",
       "SubscriptionId              5\n",
       "CurrencyCode                1\n",
       "CountryCode                 1\n",
       "ProviderId                  1\n",
       "ProductId                  15\n",
       "ProductCategory             7\n",
       "ChannelId                   1\n",
       "TransactionStatus           1\n",
       "IssuedDateLoan           1101\n",
       "AmountLoan                647\n",
       "Currency                    1\n",
       "LoanId                   1159\n",
       "PaidOnDate               1427\n",
       "IsFinalPayBack              2\n",
       "InvestorId                  3\n",
       "DueDate                  1101\n",
       "LoanApplicationId        1156\n",
       "PayBackId                1485\n",
       "ThirdPartyId             1481\n",
       "IsThirdPartyConfirmed       2\n",
       "IsDefaulted                 2\n",
       "dtype: int64"
      ]
     },
     "execution_count": 31,
     "metadata": {},
     "output_type": "execute_result"
    }
   ],
   "source": [
    "df1.nunique()"
   ]
  },
  {
   "cell_type": "code",
   "execution_count": 32,
   "metadata": {},
   "outputs": [],
   "source": [
    "d1 = df1.drop(['CurrencyCode','CountryCode','ProviderId','ChannelId', 'Currency'], axis = 1)"
   ]
  },
  {
   "cell_type": "code",
   "execution_count": 33,
   "metadata": {},
   "outputs": [
    {
     "data": {
      "text/plain": [
       "CustomerId                239\n",
       "TransactionStartTime     1098\n",
       "Value                      87\n",
       "Amount                     71\n",
       "TransactionId            1153\n",
       "BatchId                  1126\n",
       "SubscriptionId              5\n",
       "ProductId                  15\n",
       "ProductCategory             7\n",
       "TransactionStatus           1\n",
       "IssuedDateLoan           1101\n",
       "AmountLoan                647\n",
       "LoanId                   1159\n",
       "PaidOnDate               1427\n",
       "IsFinalPayBack              2\n",
       "InvestorId                  3\n",
       "DueDate                  1101\n",
       "LoanApplicationId        1156\n",
       "PayBackId                1485\n",
       "ThirdPartyId             1481\n",
       "IsThirdPartyConfirmed       2\n",
       "IsDefaulted                 2\n",
       "dtype: int64"
      ]
     },
     "execution_count": 33,
     "metadata": {},
     "output_type": "execute_result"
    }
   ],
   "source": [
    "d1.nunique()"
   ]
  },
  {
   "cell_type": "code",
   "execution_count": 34,
   "metadata": {},
   "outputs": [],
   "source": [
    "# Convert categorical variables to Numerical variables\n",
    "d2= pd.get_dummies(d1,prefix_sep = \"_\",drop_first = True)"
   ]
  },
  {
   "cell_type": "code",
   "execution_count": 35,
   "metadata": {},
   "outputs": [
    {
     "data": {
      "text/html": [
       "<div>\n",
       "<style scoped>\n",
       "    .dataframe tbody tr th:only-of-type {\n",
       "        vertical-align: middle;\n",
       "    }\n",
       "\n",
       "    .dataframe tbody tr th {\n",
       "        vertical-align: top;\n",
       "    }\n",
       "\n",
       "    .dataframe thead th {\n",
       "        text-align: right;\n",
       "    }\n",
       "</style>\n",
       "<table border=\"1\" class=\"dataframe\">\n",
       "  <thead>\n",
       "    <tr style=\"text-align: right;\">\n",
       "      <th></th>\n",
       "      <th>Value</th>\n",
       "      <th>Amount</th>\n",
       "      <th>TransactionStatus</th>\n",
       "      <th>AmountLoan</th>\n",
       "      <th>IsFinalPayBack</th>\n",
       "      <th>IsThirdPartyConfirmed</th>\n",
       "      <th>IsDefaulted</th>\n",
       "      <th>CustomerId_CustomerId_10</th>\n",
       "      <th>CustomerId_CustomerId_101</th>\n",
       "      <th>CustomerId_CustomerId_103</th>\n",
       "      <th>...</th>\n",
       "      <th>ThirdPartyId_ThirdPartyId_982</th>\n",
       "      <th>ThirdPartyId_ThirdPartyId_984</th>\n",
       "      <th>ThirdPartyId_ThirdPartyId_985</th>\n",
       "      <th>ThirdPartyId_ThirdPartyId_986</th>\n",
       "      <th>ThirdPartyId_ThirdPartyId_988</th>\n",
       "      <th>ThirdPartyId_ThirdPartyId_990</th>\n",
       "      <th>ThirdPartyId_ThirdPartyId_993</th>\n",
       "      <th>ThirdPartyId_ThirdPartyId_997</th>\n",
       "      <th>ThirdPartyId_ThirdPartyId_998</th>\n",
       "      <th>ThirdPartyId_ThirdPartyId_999</th>\n",
       "    </tr>\n",
       "  </thead>\n",
       "  <tbody>\n",
       "    <tr>\n",
       "      <td>9</td>\n",
       "      <td>10000.0</td>\n",
       "      <td>-10000.0</td>\n",
       "      <td>1</td>\n",
       "      <td>10016.0</td>\n",
       "      <td>1.0</td>\n",
       "      <td>0.0</td>\n",
       "      <td>0.0</td>\n",
       "      <td>0</td>\n",
       "      <td>0</td>\n",
       "      <td>0</td>\n",
       "      <td>...</td>\n",
       "      <td>0</td>\n",
       "      <td>0</td>\n",
       "      <td>0</td>\n",
       "      <td>0</td>\n",
       "      <td>0</td>\n",
       "      <td>0</td>\n",
       "      <td>0</td>\n",
       "      <td>0</td>\n",
       "      <td>0</td>\n",
       "      <td>0</td>\n",
       "    </tr>\n",
       "    <tr>\n",
       "      <td>10</td>\n",
       "      <td>10000.0</td>\n",
       "      <td>-10000.0</td>\n",
       "      <td>1</td>\n",
       "      <td>584.0</td>\n",
       "      <td>1.0</td>\n",
       "      <td>0.0</td>\n",
       "      <td>0.0</td>\n",
       "      <td>0</td>\n",
       "      <td>0</td>\n",
       "      <td>0</td>\n",
       "      <td>...</td>\n",
       "      <td>0</td>\n",
       "      <td>0</td>\n",
       "      <td>0</td>\n",
       "      <td>0</td>\n",
       "      <td>0</td>\n",
       "      <td>0</td>\n",
       "      <td>0</td>\n",
       "      <td>0</td>\n",
       "      <td>0</td>\n",
       "      <td>0</td>\n",
       "    </tr>\n",
       "    <tr>\n",
       "      <td>11</td>\n",
       "      <td>10000.0</td>\n",
       "      <td>-10000.0</td>\n",
       "      <td>1</td>\n",
       "      <td>100.0</td>\n",
       "      <td>1.0</td>\n",
       "      <td>0.0</td>\n",
       "      <td>0.0</td>\n",
       "      <td>0</td>\n",
       "      <td>0</td>\n",
       "      <td>0</td>\n",
       "      <td>...</td>\n",
       "      <td>0</td>\n",
       "      <td>0</td>\n",
       "      <td>0</td>\n",
       "      <td>0</td>\n",
       "      <td>0</td>\n",
       "      <td>0</td>\n",
       "      <td>0</td>\n",
       "      <td>0</td>\n",
       "      <td>0</td>\n",
       "      <td>0</td>\n",
       "    </tr>\n",
       "    <tr>\n",
       "      <td>13</td>\n",
       "      <td>5150.0</td>\n",
       "      <td>-5150.0</td>\n",
       "      <td>1</td>\n",
       "      <td>5614.0</td>\n",
       "      <td>1.0</td>\n",
       "      <td>0.0</td>\n",
       "      <td>0.0</td>\n",
       "      <td>0</td>\n",
       "      <td>0</td>\n",
       "      <td>0</td>\n",
       "      <td>...</td>\n",
       "      <td>0</td>\n",
       "      <td>0</td>\n",
       "      <td>0</td>\n",
       "      <td>0</td>\n",
       "      <td>0</td>\n",
       "      <td>0</td>\n",
       "      <td>0</td>\n",
       "      <td>0</td>\n",
       "      <td>0</td>\n",
       "      <td>0</td>\n",
       "    </tr>\n",
       "    <tr>\n",
       "      <td>14</td>\n",
       "      <td>515.0</td>\n",
       "      <td>-515.0</td>\n",
       "      <td>1</td>\n",
       "      <td>544.0</td>\n",
       "      <td>1.0</td>\n",
       "      <td>0.0</td>\n",
       "      <td>0.0</td>\n",
       "      <td>0</td>\n",
       "      <td>0</td>\n",
       "      <td>0</td>\n",
       "      <td>...</td>\n",
       "      <td>0</td>\n",
       "      <td>0</td>\n",
       "      <td>0</td>\n",
       "      <td>0</td>\n",
       "      <td>0</td>\n",
       "      <td>0</td>\n",
       "      <td>0</td>\n",
       "      <td>0</td>\n",
       "      <td>0</td>\n",
       "      <td>0</td>\n",
       "    </tr>\n",
       "  </tbody>\n",
       "</table>\n",
       "<p>5 rows × 12548 columns</p>\n",
       "</div>"
      ],
      "text/plain": [
       "      Value   Amount  TransactionStatus  AmountLoan  IsFinalPayBack  \\\n",
       "9   10000.0 -10000.0                  1     10016.0             1.0   \n",
       "10  10000.0 -10000.0                  1       584.0             1.0   \n",
       "11  10000.0 -10000.0                  1       100.0             1.0   \n",
       "13   5150.0  -5150.0                  1      5614.0             1.0   \n",
       "14    515.0   -515.0                  1       544.0             1.0   \n",
       "\n",
       "    IsThirdPartyConfirmed  IsDefaulted  CustomerId_CustomerId_10  \\\n",
       "9                     0.0          0.0                         0   \n",
       "10                    0.0          0.0                         0   \n",
       "11                    0.0          0.0                         0   \n",
       "13                    0.0          0.0                         0   \n",
       "14                    0.0          0.0                         0   \n",
       "\n",
       "    CustomerId_CustomerId_101  CustomerId_CustomerId_103  ...  \\\n",
       "9                           0                          0  ...   \n",
       "10                          0                          0  ...   \n",
       "11                          0                          0  ...   \n",
       "13                          0                          0  ...   \n",
       "14                          0                          0  ...   \n",
       "\n",
       "    ThirdPartyId_ThirdPartyId_982  ThirdPartyId_ThirdPartyId_984  \\\n",
       "9                               0                              0   \n",
       "10                              0                              0   \n",
       "11                              0                              0   \n",
       "13                              0                              0   \n",
       "14                              0                              0   \n",
       "\n",
       "    ThirdPartyId_ThirdPartyId_985  ThirdPartyId_ThirdPartyId_986  \\\n",
       "9                               0                              0   \n",
       "10                              0                              0   \n",
       "11                              0                              0   \n",
       "13                              0                              0   \n",
       "14                              0                              0   \n",
       "\n",
       "    ThirdPartyId_ThirdPartyId_988  ThirdPartyId_ThirdPartyId_990  \\\n",
       "9                               0                              0   \n",
       "10                              0                              0   \n",
       "11                              0                              0   \n",
       "13                              0                              0   \n",
       "14                              0                              0   \n",
       "\n",
       "    ThirdPartyId_ThirdPartyId_993  ThirdPartyId_ThirdPartyId_997  \\\n",
       "9                               0                              0   \n",
       "10                              0                              0   \n",
       "11                              0                              0   \n",
       "13                              0                              0   \n",
       "14                              0                              0   \n",
       "\n",
       "    ThirdPartyId_ThirdPartyId_998  ThirdPartyId_ThirdPartyId_999  \n",
       "9                               0                              0  \n",
       "10                              0                              0  \n",
       "11                              0                              0  \n",
       "13                              0                              0  \n",
       "14                              0                              0  \n",
       "\n",
       "[5 rows x 12548 columns]"
      ]
     },
     "execution_count": 35,
     "metadata": {},
     "output_type": "execute_result"
    }
   ],
   "source": [
    "d2.head()"
   ]
  },
  {
   "cell_type": "code",
   "execution_count": 36,
   "metadata": {},
   "outputs": [],
   "source": [
    "X = d2.drop(['TransactionStatus','IsDefaulted'], axis = 1) # Features\n",
    "y = d2.IsDefaulted # Target variable"
   ]
  },
  {
   "cell_type": "code",
   "execution_count": 37,
   "metadata": {},
   "outputs": [
    {
     "data": {
      "text/html": [
       "<div>\n",
       "<style scoped>\n",
       "    .dataframe tbody tr th:only-of-type {\n",
       "        vertical-align: middle;\n",
       "    }\n",
       "\n",
       "    .dataframe tbody tr th {\n",
       "        vertical-align: top;\n",
       "    }\n",
       "\n",
       "    .dataframe thead th {\n",
       "        text-align: right;\n",
       "    }\n",
       "</style>\n",
       "<table border=\"1\" class=\"dataframe\">\n",
       "  <thead>\n",
       "    <tr style=\"text-align: right;\">\n",
       "      <th></th>\n",
       "      <th>Value</th>\n",
       "      <th>Amount</th>\n",
       "      <th>AmountLoan</th>\n",
       "      <th>IsFinalPayBack</th>\n",
       "      <th>IsThirdPartyConfirmed</th>\n",
       "      <th>CustomerId_CustomerId_10</th>\n",
       "      <th>CustomerId_CustomerId_101</th>\n",
       "      <th>CustomerId_CustomerId_103</th>\n",
       "      <th>CustomerId_CustomerId_108</th>\n",
       "      <th>CustomerId_CustomerId_110</th>\n",
       "      <th>...</th>\n",
       "      <th>ThirdPartyId_ThirdPartyId_982</th>\n",
       "      <th>ThirdPartyId_ThirdPartyId_984</th>\n",
       "      <th>ThirdPartyId_ThirdPartyId_985</th>\n",
       "      <th>ThirdPartyId_ThirdPartyId_986</th>\n",
       "      <th>ThirdPartyId_ThirdPartyId_988</th>\n",
       "      <th>ThirdPartyId_ThirdPartyId_990</th>\n",
       "      <th>ThirdPartyId_ThirdPartyId_993</th>\n",
       "      <th>ThirdPartyId_ThirdPartyId_997</th>\n",
       "      <th>ThirdPartyId_ThirdPartyId_998</th>\n",
       "      <th>ThirdPartyId_ThirdPartyId_999</th>\n",
       "    </tr>\n",
       "  </thead>\n",
       "  <tbody>\n",
       "    <tr>\n",
       "      <td>9</td>\n",
       "      <td>10000.0</td>\n",
       "      <td>-10000.0</td>\n",
       "      <td>10016.0</td>\n",
       "      <td>1.0</td>\n",
       "      <td>0.0</td>\n",
       "      <td>0</td>\n",
       "      <td>0</td>\n",
       "      <td>0</td>\n",
       "      <td>0</td>\n",
       "      <td>0</td>\n",
       "      <td>...</td>\n",
       "      <td>0</td>\n",
       "      <td>0</td>\n",
       "      <td>0</td>\n",
       "      <td>0</td>\n",
       "      <td>0</td>\n",
       "      <td>0</td>\n",
       "      <td>0</td>\n",
       "      <td>0</td>\n",
       "      <td>0</td>\n",
       "      <td>0</td>\n",
       "    </tr>\n",
       "    <tr>\n",
       "      <td>10</td>\n",
       "      <td>10000.0</td>\n",
       "      <td>-10000.0</td>\n",
       "      <td>584.0</td>\n",
       "      <td>1.0</td>\n",
       "      <td>0.0</td>\n",
       "      <td>0</td>\n",
       "      <td>0</td>\n",
       "      <td>0</td>\n",
       "      <td>0</td>\n",
       "      <td>0</td>\n",
       "      <td>...</td>\n",
       "      <td>0</td>\n",
       "      <td>0</td>\n",
       "      <td>0</td>\n",
       "      <td>0</td>\n",
       "      <td>0</td>\n",
       "      <td>0</td>\n",
       "      <td>0</td>\n",
       "      <td>0</td>\n",
       "      <td>0</td>\n",
       "      <td>0</td>\n",
       "    </tr>\n",
       "    <tr>\n",
       "      <td>11</td>\n",
       "      <td>10000.0</td>\n",
       "      <td>-10000.0</td>\n",
       "      <td>100.0</td>\n",
       "      <td>1.0</td>\n",
       "      <td>0.0</td>\n",
       "      <td>0</td>\n",
       "      <td>0</td>\n",
       "      <td>0</td>\n",
       "      <td>0</td>\n",
       "      <td>0</td>\n",
       "      <td>...</td>\n",
       "      <td>0</td>\n",
       "      <td>0</td>\n",
       "      <td>0</td>\n",
       "      <td>0</td>\n",
       "      <td>0</td>\n",
       "      <td>0</td>\n",
       "      <td>0</td>\n",
       "      <td>0</td>\n",
       "      <td>0</td>\n",
       "      <td>0</td>\n",
       "    </tr>\n",
       "    <tr>\n",
       "      <td>13</td>\n",
       "      <td>5150.0</td>\n",
       "      <td>-5150.0</td>\n",
       "      <td>5614.0</td>\n",
       "      <td>1.0</td>\n",
       "      <td>0.0</td>\n",
       "      <td>0</td>\n",
       "      <td>0</td>\n",
       "      <td>0</td>\n",
       "      <td>0</td>\n",
       "      <td>0</td>\n",
       "      <td>...</td>\n",
       "      <td>0</td>\n",
       "      <td>0</td>\n",
       "      <td>0</td>\n",
       "      <td>0</td>\n",
       "      <td>0</td>\n",
       "      <td>0</td>\n",
       "      <td>0</td>\n",
       "      <td>0</td>\n",
       "      <td>0</td>\n",
       "      <td>0</td>\n",
       "    </tr>\n",
       "    <tr>\n",
       "      <td>14</td>\n",
       "      <td>515.0</td>\n",
       "      <td>-515.0</td>\n",
       "      <td>544.0</td>\n",
       "      <td>1.0</td>\n",
       "      <td>0.0</td>\n",
       "      <td>0</td>\n",
       "      <td>0</td>\n",
       "      <td>0</td>\n",
       "      <td>0</td>\n",
       "      <td>0</td>\n",
       "      <td>...</td>\n",
       "      <td>0</td>\n",
       "      <td>0</td>\n",
       "      <td>0</td>\n",
       "      <td>0</td>\n",
       "      <td>0</td>\n",
       "      <td>0</td>\n",
       "      <td>0</td>\n",
       "      <td>0</td>\n",
       "      <td>0</td>\n",
       "      <td>0</td>\n",
       "    </tr>\n",
       "  </tbody>\n",
       "</table>\n",
       "<p>5 rows × 12546 columns</p>\n",
       "</div>"
      ],
      "text/plain": [
       "      Value   Amount  AmountLoan  IsFinalPayBack  IsThirdPartyConfirmed  \\\n",
       "9   10000.0 -10000.0     10016.0             1.0                    0.0   \n",
       "10  10000.0 -10000.0       584.0             1.0                    0.0   \n",
       "11  10000.0 -10000.0       100.0             1.0                    0.0   \n",
       "13   5150.0  -5150.0      5614.0             1.0                    0.0   \n",
       "14    515.0   -515.0       544.0             1.0                    0.0   \n",
       "\n",
       "    CustomerId_CustomerId_10  CustomerId_CustomerId_101  \\\n",
       "9                          0                          0   \n",
       "10                         0                          0   \n",
       "11                         0                          0   \n",
       "13                         0                          0   \n",
       "14                         0                          0   \n",
       "\n",
       "    CustomerId_CustomerId_103  CustomerId_CustomerId_108  \\\n",
       "9                           0                          0   \n",
       "10                          0                          0   \n",
       "11                          0                          0   \n",
       "13                          0                          0   \n",
       "14                          0                          0   \n",
       "\n",
       "    CustomerId_CustomerId_110  ...  ThirdPartyId_ThirdPartyId_982  \\\n",
       "9                           0  ...                              0   \n",
       "10                          0  ...                              0   \n",
       "11                          0  ...                              0   \n",
       "13                          0  ...                              0   \n",
       "14                          0  ...                              0   \n",
       "\n",
       "    ThirdPartyId_ThirdPartyId_984  ThirdPartyId_ThirdPartyId_985  \\\n",
       "9                               0                              0   \n",
       "10                              0                              0   \n",
       "11                              0                              0   \n",
       "13                              0                              0   \n",
       "14                              0                              0   \n",
       "\n",
       "    ThirdPartyId_ThirdPartyId_986  ThirdPartyId_ThirdPartyId_988  \\\n",
       "9                               0                              0   \n",
       "10                              0                              0   \n",
       "11                              0                              0   \n",
       "13                              0                              0   \n",
       "14                              0                              0   \n",
       "\n",
       "    ThirdPartyId_ThirdPartyId_990  ThirdPartyId_ThirdPartyId_993  \\\n",
       "9                               0                              0   \n",
       "10                              0                              0   \n",
       "11                              0                              0   \n",
       "13                              0                              0   \n",
       "14                              0                              0   \n",
       "\n",
       "    ThirdPartyId_ThirdPartyId_997  ThirdPartyId_ThirdPartyId_998  \\\n",
       "9                               0                              0   \n",
       "10                              0                              0   \n",
       "11                              0                              0   \n",
       "13                              0                              0   \n",
       "14                              0                              0   \n",
       "\n",
       "    ThirdPartyId_ThirdPartyId_999  \n",
       "9                               0  \n",
       "10                              0  \n",
       "11                              0  \n",
       "13                              0  \n",
       "14                              0  \n",
       "\n",
       "[5 rows x 12546 columns]"
      ]
     },
     "execution_count": 37,
     "metadata": {},
     "output_type": "execute_result"
    }
   ],
   "source": [
    "X.head()"
   ]
  },
  {
   "cell_type": "code",
   "execution_count": 38,
   "metadata": {},
   "outputs": [],
   "source": [
    "import sklearn\n",
    "from sklearn import tree\n",
    "from sklearn.tree import DecisionTreeClassifier # Import Decision Tree Classifier\n",
    "from sklearn.model_selection import train_test_split # Import train_test_split function\n",
    "from sklearn import metrics #Import scikit-learn metrics module for accuracy calculation"
   ]
  },
  {
   "cell_type": "markdown",
   "metadata": {},
   "source": [
    "# Feature selection"
   ]
  },
  {
   "cell_type": "code",
   "execution_count": 39,
   "metadata": {},
   "outputs": [],
   "source": [
    "# mutual_info_classif\n",
    "from sklearn.feature_selection import mutual_info_classif\n",
    "from sklearn.feature_selection import SelectKBest"
   ]
  },
  {
   "cell_type": "code",
   "execution_count": null,
   "metadata": {},
   "outputs": [],
   "source": [
    "sel_mutual = SelectKBest(mutual_info_classif, k=20)\n",
    "X_mutual = sel_mutual.fit_transform(X,y)\n",
    "print(sel_mutual.get_support())"
   ]
  },
  {
   "cell_type": "code",
   "execution_count": null,
   "metadata": {},
   "outputs": [],
   "source": [
    "X_mutual.shape"
   ]
  },
  {
   "cell_type": "code",
   "execution_count": null,
   "metadata": {},
   "outputs": [],
   "source": [
    "# Split dataset into training set and test set\n",
    "X_train, X_test, y_train, y_test = train_test_split(X_mutual, y, random_state=42, test_size=0.2) # 80% training and 20% test"
   ]
  },
  {
   "cell_type": "markdown",
   "metadata": {},
   "source": [
    "# 1-Decision Tree Model"
   ]
  },
  {
   "cell_type": "code",
   "execution_count": null,
   "metadata": {},
   "outputs": [],
   "source": [
    "# Create Decision Tree classifer object\n",
    "clf = DecisionTreeClassifier(random_state=42, max_depth=5)\n",
    "\n",
    "# Train Decision Tree Classifer\n",
    "clf = clf.fit(X_train,y_train)\n",
    "\n",
    "#Predict the response for test dataset\n",
    "y_pred = clf.predict(X_test)"
   ]
  },
  {
   "cell_type": "markdown",
   "metadata": {},
   "source": [
    "# Evaluating Model"
   ]
  },
  {
   "cell_type": "code",
   "execution_count": null,
   "metadata": {},
   "outputs": [],
   "source": [
    "# Model Accuracy, how often is the classifier correct?\n",
    "print(\"Accuracy:\",metrics.accuracy_score(y_test, y_pred))"
   ]
  },
  {
   "cell_type": "code",
   "execution_count": null,
   "metadata": {},
   "outputs": [],
   "source": [
    "'''\n",
    "Accuracy: 0.9496644295302014 # 100\n",
    "Accuracy: 0.9395973154362416 # 10    \n",
    "Accuracy: 0.9261744966442953 # 0    \n",
    "'''"
   ]
  },
  {
   "cell_type": "code",
   "execution_count": null,
   "metadata": {},
   "outputs": [],
   "source": [
    "# random_state=0 pr split dataset\n",
    "\n",
    "'''\n",
    "Accuracy: 0.9228187919463087 # Arbre de Decision\n",
    "Accuracy: Accuracy: 0.9261744966442953 # Forêt Aléatoire\n",
    "Accuracy: 0.9261744966442953 # Regression Logistique\n",
    "Accuracy Train: 95.29 %  # XGBOOST\n",
    "Accuracy Test --> 0.9328859060402684 # XGBOOST\n",
    "'''\n"
   ]
  },
  {
   "cell_type": "markdown",
   "metadata": {},
   "source": [
    "# 2-Modele de Regression Logistique"
   ]
  },
  {
   "cell_type": "code",
   "execution_count": null,
   "metadata": {},
   "outputs": [],
   "source": [
    "from sklearn.linear_model import LogisticRegression"
   ]
  },
  {
   "cell_type": "code",
   "execution_count": null,
   "metadata": {},
   "outputs": [],
   "source": [
    "#Instantiate The Logistic Regression in Python\n",
    "model = LogisticRegression()\n",
    "model = model.fit(X_train,y_train)"
   ]
  },
  {
   "cell_type": "code",
   "execution_count": null,
   "metadata": {},
   "outputs": [],
   "source": [
    "#Predict Class Labels\n",
    "predicted = model.predict(X_test)"
   ]
  },
  {
   "cell_type": "code",
   "execution_count": null,
   "metadata": {},
   "outputs": [],
   "source": [
    "#Confusion Matrix\n",
    "print(metrics.confusion_matrix(y_test, predicted))"
   ]
  },
  {
   "cell_type": "code",
   "execution_count": null,
   "metadata": {},
   "outputs": [],
   "source": [
    "#Classification Report\n",
    "print(metrics.classification_report(y_test, predicted))"
   ]
  },
  {
   "cell_type": "code",
   "execution_count": null,
   "metadata": {},
   "outputs": [],
   "source": [
    "#Model Accuracy\n",
    "print(model.score(X_test,y_test))"
   ]
  },
  {
   "cell_type": "markdown",
   "metadata": {},
   "source": [
    "# 3-  Random Forest"
   ]
  },
  {
   "cell_type": "code",
   "execution_count": null,
   "metadata": {},
   "outputs": [],
   "source": [
    "from sklearn.ensemble import RandomForestClassifier"
   ]
  },
  {
   "cell_type": "code",
   "execution_count": null,
   "metadata": {},
   "outputs": [],
   "source": [
    "#Create a Gaussian Classifier\n",
    "clf=RandomForestClassifier(n_estimators=100, random_state=42, max_depth=5)\n",
    "\n",
    "#Train the model using the training sets y_pred=clf.predict(X_test)\n",
    "clf.fit(X_train,y_train)\n",
    "\n",
    "# prediction on test set\n",
    "y_pred=clf.predict(X_test)\n",
    "\n",
    "#Import scikit-learn metrics module for accuracy calculation"
   ]
  },
  {
   "cell_type": "code",
   "execution_count": null,
   "metadata": {},
   "outputs": [],
   "source": [
    "from sklearn import metrics\n",
    "# Model Accuracy, how often is the classifier correct?\n",
    "print(\"Accuracy:\",metrics.accuracy_score(y_test, y_pred))"
   ]
  },
  {
   "cell_type": "markdown",
   "metadata": {},
   "source": [
    "# XGBoost Classification"
   ]
  },
  {
   "cell_type": "code",
   "execution_count": null,
   "metadata": {},
   "outputs": [],
   "source": [
    "from xgboost import XGBClassifier\n",
    "from sklearn.preprocessing import MinMaxScaler\n",
    "import xgboost as xgb"
   ]
  },
  {
   "cell_type": "code",
   "execution_count": null,
   "metadata": {},
   "outputs": [],
   "source": [
    "boost = XGBClassifier(\n",
    "    learning_rate =0.01,\n",
    "    n_estimators=5000,\n",
    "    max_depth=4,\n",
    "    min_child_weight=6,\n",
    "    gamma=0,\n",
    "    subsample=0.8,\n",
    "    colsample_bytree=0.8,\n",
    "    reg_alpha=0.005,\n",
    "    objective= 'binary:logistic',\n",
    "    nthread=4,\n",
    "    scale_pos_weight=1,\n",
    "    seed=27)\n",
    "boost.fit(X_train,y_train)\n",
    "# prediction on test set\n",
    "p_boost = boost.predict(X_test)"
   ]
  },
  {
   "cell_type": "code",
   "execution_count": null,
   "metadata": {},
   "outputs": [],
   "source": [
    "print(\"Score Train -->\", round(boost.score(X_train,y_train) *100,2), \" %\")"
   ]
  },
  {
   "cell_type": "code",
   "execution_count": null,
   "metadata": {},
   "outputs": [],
   "source": [
    "print(\"Score Test -->\", boost.score(X_test,y_test))"
   ]
  },
  {
   "cell_type": "code",
   "execution_count": null,
   "metadata": {},
   "outputs": [],
   "source": [
    "# Score Train --> 95.63  % # avec randon_state"
   ]
  }
 ],
 "metadata": {
  "kernelspec": {
   "display_name": "Python 3",
   "language": "python",
   "name": "python3"
  },
  "language_info": {
   "codemirror_mode": {
    "name": "ipython",
    "version": 3
   },
   "file_extension": ".py",
   "mimetype": "text/x-python",
   "name": "python",
   "nbconvert_exporter": "python",
   "pygments_lexer": "ipython3",
   "version": "3.7.4"
  }
 },
 "nbformat": 4,
 "nbformat_minor": 2
}
